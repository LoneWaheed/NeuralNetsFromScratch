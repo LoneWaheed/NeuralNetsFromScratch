{
 "cells": [
  {
   "cell_type": "code",
   "execution_count": 10,
   "id": "4f886ddf",
   "metadata": {},
   "outputs": [],
   "source": [
    "import sys\n",
    "import numpy as np"
   ]
  },
  {
   "cell_type": "code",
   "execution_count": 32,
   "id": "fe215fa5",
   "metadata": {},
   "outputs": [
    {
     "name": "stdout",
     "output_type": "stream",
     "text": [
      "35.7\n"
     ]
    },
    {
     "data": {
      "text/plain": [
       "[3.1, 2.1, 8.7]"
      ]
     },
     "execution_count": 32,
     "metadata": {},
     "output_type": "execute_result"
    }
   ],
   "source": [
    "#first video with single neuron\n",
    "inputs=[1.2,5.1,2.1]\n",
    "weights=[3.1,2.1,8.7]\n",
    "bias=3\n",
    "output=inputs[0]*weights[0]+inputs[1]*weights[1]+inputs[2]*weights[2]+bias\n",
    "print(output)\n",
    "weights"
   ]
  },
  {
   "cell_type": "code",
   "execution_count": 34,
   "id": "b1d308a7",
   "metadata": {},
   "outputs": [
    {
     "name": "stdout",
     "output_type": "stream",
     "text": [
      "[7.8   4.85  2.905]\n"
     ]
    }
   ],
   "source": [
    "#second video\n",
    "inputs=np.array([1.0,2.0,3,2.5]) #length of single sample gives no of features\n",
    "# weights1=[0.2,0.8,0.5,1.0]\n",
    "# weights2=[0.5,0.91,0.26,-0.5]\n",
    "# weights3=[0.26,-0.27,0.17,0.87]\n",
    "#size of weight amtrix=no0fNeurons*sizeOfInput\n",
    "weights=np.array([[0.2,0.8,0.5,1.0],[0.5,0.91,0.26,-0.5],[0.26,-0.27,0.17,0.87]]) #matrix containing vectors\n",
    "# bias1=2        #3 neurons\n",
    "# bias2=3\n",
    "# bias3=0.5\n",
    "biases=np.array([2,3,0.5])\n",
    "output=np.dot(weights,inputs)+biases\n",
    "print(output)\n",
    "\n"
   ]
  },
  {
   "cell_type": "code",
   "execution_count": 44,
   "id": "522724bd",
   "metadata": {},
   "outputs": [
    {
     "ename": "ValueError",
     "evalue": "shapes (4,) and (3,4) not aligned: 4 (dim 0) != 3 (dim 0)",
     "output_type": "error",
     "traceback": [
      "\u001b[1;31m---------------------------------------------------------------------------\u001b[0m",
      "\u001b[1;31mValueError\u001b[0m                                Traceback (most recent call last)",
      "\u001b[1;32m<ipython-input-44-e44de9793391>\u001b[0m in \u001b[0;36m<module>\u001b[1;34m\u001b[0m\n\u001b[0;32m      1\u001b[0m \u001b[0mbiases\u001b[0m\u001b[1;33m=\u001b[0m\u001b[1;33m[\u001b[0m\u001b[1;36m2\u001b[0m\u001b[1;33m,\u001b[0m\u001b[1;36m3\u001b[0m\u001b[1;33m,\u001b[0m\u001b[1;36m0.5\u001b[0m\u001b[1;33m]\u001b[0m\u001b[1;33m\u001b[0m\u001b[1;33m\u001b[0m\u001b[0m\n\u001b[1;32m----> 2\u001b[1;33m \u001b[0moutput\u001b[0m\u001b[1;33m=\u001b[0m\u001b[0mnp\u001b[0m\u001b[1;33m.\u001b[0m\u001b[0mdot\u001b[0m\u001b[1;33m(\u001b[0m\u001b[0minputs\u001b[0m\u001b[1;33m,\u001b[0m\u001b[0mweights\u001b[0m\u001b[1;33m)\u001b[0m\u001b[1;33m+\u001b[0m\u001b[0mbiases\u001b[0m\u001b[1;33m\u001b[0m\u001b[1;33m\u001b[0m\u001b[0m\n\u001b[0m",
      "\u001b[1;32m<__array_function__ internals>\u001b[0m in \u001b[0;36mdot\u001b[1;34m(*args, **kwargs)\u001b[0m\n",
      "\u001b[1;31mValueError\u001b[0m: shapes (4,) and (3,4) not aligned: 4 (dim 0) != 3 (dim 0)"
     ]
    }
   ],
   "source": [
    "biases=[2,3,0.5]\n",
    "output=np.dot(inputs,weights)+biases\n"
   ]
  },
  {
   "cell_type": "code",
   "execution_count": 26,
   "id": "90ee7145",
   "metadata": {},
   "outputs": [
    {
     "name": "stdout",
     "output_type": "stream",
     "text": [
      "[[ 0.5031  -1.04185 -2.03875]\n",
      " [ 0.2434  -2.7332  -5.7633 ]\n",
      " [-0.99314  1.41254 -0.35655]]\n"
     ]
    }
   ],
   "source": [
    "import numpy as np\n",
    "#batch of inputs\n",
    "inputs=[[1,2,3,2.5],    \n",
    "        [2.0,5.0,-1.0,2.0],\n",
    "        [-1.5,2.7,3.3,-0.8]]\n",
    "weights1=[[0.2,0.8,-0.5,1.0],\n",
    "        [0.5,-0.91,0.26,-0.5],\n",
    "         [-0.26,-0.27,0.17,0.87]]    #size of weight matrix is (numberofNeurons*inputfeatures)\n",
    "biases1=[2,3,0.5]\n",
    "#output=np.dot(weights,inputs)+biases\n",
    "layer1_outputs=np.dot(inputs,np.array(weights1).T)+biases1\n",
    "#now we add another layer of neurons and we need set of weights and baises\n",
    "weights2=[[0.1,-0.14,0.5],\n",
    "        [-0.5,0.12,-0.33],\n",
    "         [-0.44,0.73,-0.13]]\n",
    "biases2=[-1,2,-0.5]\n",
    "layer2_outputs=np.dot(layer1_outputs,np.array(weights2).T)+biases2\n",
    "print(layer2_outputs)"
   ]
  },
  {
   "cell_type": "code",
   "execution_count": 35,
   "id": "392a0b1c",
   "metadata": {},
   "outputs": [
    {
     "name": "stdout",
     "output_type": "stream",
     "text": [
      "[[ 1.07581312 10.39835225  2.44624108  3.1821498   1.88510534]\n",
      " [-0.83497962  7.08464114  0.02933567  4.47015253  3.63605378]\n",
      " [-5.07632447  5.56884223  0.79877967 -3.48895731  0.45530423]]\n",
      "[[14.82959991 -8.39760189]\n",
      " [14.10031472 -1.3404687 ]\n",
      " [20.12497867 -7.29061598]]\n"
     ]
    }
   ],
   "source": [
    "# let us work in anther way to create neurons (objects)\n",
    "np.random.seed(0)\n",
    "X=[[1,2,3,2.5],    \n",
    "  [2.0,5.0,-1.0,2.0],\n",
    "  [-1.5,2.7,3.3,-0.8]]\n",
    "class Layer_Dense:\n",
    "    def __init__(self,n_inputs,n_neurons):\n",
    "        self.weights=np.random.randn(n_inputs,n_neurons)  #to avoid doing tranpose, we write (n_inputs*n_neurons)\n",
    "        self.biases=np.zeros((1,n_neurons))  #pass the parameter as shape\n",
    "    def forward(self,inputs):\n",
    "        self.output=np.dot(inputs,self.weights)+self.biases\n",
    "class Activation_ReLu:\n",
    "    def forward(self,inputs):\n",
    "        self.output=np.maximum(0,inputs)\n",
    "        \n",
    "layer1=Layer_Dense(4,5)\n",
    "layer2=Layer_Dense(5,2)\n",
    "layer1.forward(X)\n",
    "print(layer1.output)\n",
    "layer2.forward(layer1.output)\n",
    "print(layer2.output)\n",
    "    "
   ]
  },
  {
   "cell_type": "code",
   "execution_count": 39,
   "id": "d11b26f4",
   "metadata": {},
   "outputs": [
    {
     "name": "stdout",
     "output_type": "stream",
     "text": [
      "[0, 2, 0, 3.3, 0, 1.1, 2.2, 0]\n"
     ]
    }
   ],
   "source": [
    "#video 5\n",
    "import numpy as np\n",
    "np.random.seed(0)\n",
    "X=[[1,2,3,2.5],\n",
    "  [2.0,5.0,-1.0,2.0],\n",
    "  [-1.5,2.7,3.3,-0.8]]\n",
    "inputs=[0,2,-1,3.3,-2.7,1.1,2.2,-100]\n",
    "output=[]\n",
    "for i in inputs:\n",
    "    output.append(max(0,i))\n",
    "#     if i>0:\n",
    "#         output.append(i)\n",
    "#     elif i<=0:\n",
    "#         output.append(0)\n",
    "print(output)"
   ]
  },
  {
   "cell_type": "code",
   "execution_count": 42,
   "id": "bdd2fd25",
   "metadata": {},
   "outputs": [
    {
     "name": "stdout",
     "output_type": "stream",
     "text": [
      "here\n"
     ]
    }
   ],
   "source": [
    "#create a dataset cs231n stanford university\n",
    "def create_data(points,classes):\n",
    "    X=np.zeros((points*classes,2))\n",
    "    y=np.zeros(points*classes,dtype='uint8')\n",
    "    for class_number in range(classes):\n",
    "        ix=range(points*class_number,points*(class_number+1))\n",
    "        r=np.linspace(0.0,1,points) #radius\n",
    "        t=np.linspace(class_number*4,(class_number+1)*4,points)+np.random.randn(points)*0.2\n",
    "        X[ix]=np.c_[r*np.sin(t*2.5),r*np.cos(t*2.5)]\n",
    "        y[ix]=class_number\n",
    "    return X,y\n",
    "import matplotlib.pyplot as plt\n",
    "print(\"here\")\n",
    "X,y=create_data(100,3)"
   ]
  },
  {
   "cell_type": "code",
   "execution_count": 45,
   "id": "b2919b94",
   "metadata": {},
   "outputs": [
    {
     "name": "stdout",
     "output_type": "stream",
     "text": [
      "[[0.00000000e+00 0.00000000e+00 0.00000000e+00 0.00000000e+00\n",
      "  0.00000000e+00]\n",
      " [0.00000000e+00 0.00000000e+00 0.00000000e+00 4.65504526e-03\n",
      "  4.56845892e-04]\n",
      " [0.00000000e+00 5.93467943e-04 0.00000000e+00 2.03573189e-03\n",
      "  6.10024276e-03]\n",
      " ...\n",
      " [1.13291515e+00 0.00000000e+00 0.00000000e+00 8.11079627e-01\n",
      "  0.00000000e+00]\n",
      " [1.34588354e+00 0.00000000e+00 3.09493973e-01 5.66337522e-01\n",
      "  0.00000000e+00]\n",
      " [1.07817915e+00 0.00000000e+00 0.00000000e+00 8.72561871e-01\n",
      "  0.00000000e+00]]\n"
     ]
    }
   ],
   "source": [
    "import numpy as np\n",
    "import nnfs\n",
    "from nnfs.datasets import spiral_data\n",
    "np.random.seed(0)\n",
    "X=[[1,2,3,2.5],    \n",
    "  [2.0,5.0,-1.0,2.0],\n",
    "  [-1.5,2.7,3.3,-0.8]]\n",
    "X,y=spiral_data(100,3)\n",
    "class Layer_Dense:\n",
    "    def __init__(self,n_inputs,n_neurons):\n",
    "        self.weights=np.random.randn(n_inputs,n_neurons)  #to avoid doing tranpose, we write (n_inputs*n_neurons)\n",
    "        self.biases=np.zeros((1,n_neurons))  #pass the parameter as shape\n",
    "    def forward(self,inputs):\n",
    "        self.output=np.dot(inputs,self.weights)+self.biases\n",
    "class Activation_ReLu:\n",
    "    def forward(self,inputs):\n",
    "        self.output=np.maximum(0,inputs)\n",
    "        \n",
    "layer1=Layer_Dense(2,5)\n",
    "activation1=Activation_ReLu()\n",
    "layer1.forward(X)\n",
    "# print(layer1.output)\n",
    "activation1.forward(layer1.output)\n",
    "print(activation1.output)\n",
    "# layer2.forward(layer1.output)\n",
    "# print(layer2.output)"
   ]
  },
  {
   "cell_type": "code",
   "execution_count": 61,
   "id": "253f91cf",
   "metadata": {},
   "outputs": [
    {
     "name": "stdout",
     "output_type": "stream",
     "text": [
      "[[8.95282664e-01 2.47083068e-02 8.00090293e-02]\n",
      " [9.99809456e-01 2.23163590e-05 1.68227965e-04]\n",
      " [5.13097164e-01 3.58333899e-01 1.28568936e-01]]\n"
     ]
    }
   ],
   "source": [
    "#video 6 Softmax activation function\n",
    "import math\n",
    "import numpy as np\n",
    "layer_outputs=[[4.8,1.21,2.385],\n",
    "              [8.9,-1.81,0.21],\n",
    "              [1.41,1.051,0.026]]\n",
    "#E=math.e\n",
    "\n",
    "exp_values=np.exp(layer_outputs)\n",
    "#print(np.sum(layer_outputs,axis=1,keepdims=True))\n",
    "norm_values=exp_values/np.sum(exp_values,axis=1,keepdims=True)\n",
    "#norm_values=exp_values/np.sum(exp_values)\n",
    "#print(exp_values)\n",
    "#norm_values=exp_values/np.sum(exp_values)\n",
    "print(norm_values)\n",
    "# for output in layer_outputs:\n",
    "#     exp_values.append(E**output)\n",
    "# print(exp_values)\n",
    "# norm_base=sum(exp_values)\n",
    "# norm_values=[]\n",
    "# for value in exp_values:\n",
    "#     norm_values.append(value/norm_base)\n",
    "#print(norm_values)\n",
    "#print(sum(norm_values))"
   ]
  },
  {
   "cell_type": "code",
   "execution_count": 12,
   "id": "29f82c25",
   "metadata": {},
   "outputs": [
    {
     "name": "stdout",
     "output_type": "stream",
     "text": [
      "0.35667494393873245\n"
     ]
    }
   ],
   "source": [
    "#video seven (7)\n",
    "'''\n",
    "   Log defintionl: solving for x e**x=b.\n",
    "\n",
    "'''\n",
    "import numpy as np\n",
    "b=5.2\n",
    "#print(np.log(b))\n",
    "#cross entropy loss fucntion: -predicted_output*log(target_output)\n",
    "softmax_output=[0.7,0.1,0.2]\n",
    "target_output=[1,0,0]\n",
    "loss=-(math.log(softmax_output[0])*target_output[0]+math.log(softmax_output[1])*target_output[1]+\n",
    "       math.log(softmax_output[2])*target_output[2])\n",
    "print(loss)"
   ]
  },
  {
   "cell_type": "code",
   "execution_count": 8,
   "id": "417e413b",
   "metadata": {},
   "outputs": [
    {
     "name": "stdout",
     "output_type": "stream",
     "text": [
      "5.199999999999999\n"
     ]
    }
   ],
   "source": [
    "import math\n",
    "print(math.e**1.6486586255873816)"
   ]
  },
  {
   "cell_type": "code",
   "execution_count": 32,
   "id": "d605a093",
   "metadata": {},
   "outputs": [
    {
     "name": "stdout",
     "output_type": "stream",
     "text": [
      "[0.35667494 0.69314718 0.10536052]\n"
     ]
    }
   ],
   "source": [
    " #video no 8  Implementing loss\n",
    "softmax_outputs=[[0.7,0.1,0.2],[0.1,0.5,0.4],[0.02,0.9,0.08]]\n",
    "class_targets=[0,1,1]\n",
    "# for targ_idx,distribution in zip(class_targets,softmax_outputs):\n",
    "#     print(distribution[targ_idx])\n",
    "#using numpy\n",
    "\n",
    "import numpy as np\n",
    "softmax_outputs=np.array([[0.7,0.1,0.2],[0.1,0.5,0.4],[0.02,0.9,0.08]])\n",
    "class_targets=[0,1,1]\n",
    "#print(softmax_outputs[[0,1,2],class_targets])\n",
    "#print using the range fucntion\n",
    "# print(softmax_outputs[\n",
    "#     range(len(softmax_outputs)),class_targets\n",
    "# ])\n",
    "print(-np.log(softmax_outputs[\n",
    "    range(len(softmax_outputs)),class_targets\n",
    "]))"
   ]
  },
  {
   "cell_type": "code",
   "execution_count": 31,
   "id": "67d2a247",
   "metadata": {},
   "outputs": [
    {
     "data": {
      "text/plain": [
       "range(0, 3)"
      ]
     },
     "execution_count": 31,
     "metadata": {},
     "output_type": "execute_result"
    }
   ],
   "source": [
    "range(len(softmax_outputs))"
   ]
  },
  {
   "cell_type": "code",
   "execution_count": 17,
   "id": "4d882fa8",
   "metadata": {},
   "outputs": [
    {
     "data": {
      "text/plain": [
       "<zip at 0x152106eedc0>"
      ]
     },
     "execution_count": 17,
     "metadata": {},
     "output_type": "execute_result"
    }
   ],
   "source": [
    "xx"
   ]
  },
  {
   "cell_type": "code",
   "execution_count": 39,
   "id": "cd9f9973",
   "metadata": {},
   "outputs": [
    {
     "ename": "ValueError",
     "evalue": "shapes (300,5) and (3,3) not aligned: 5 (dim 1) != 3 (dim 0)",
     "output_type": "error",
     "traceback": [
      "\u001b[1;31m---------------------------------------------------------------------------\u001b[0m",
      "\u001b[1;31mValueError\u001b[0m                                Traceback (most recent call last)",
      "\u001b[1;32m<ipython-input-39-4af4fd0c38a4>\u001b[0m in \u001b[0;36m<module>\u001b[1;34m\u001b[0m\n\u001b[0;32m     48\u001b[0m \u001b[0mactivation1\u001b[0m\u001b[1;33m.\u001b[0m\u001b[0mforward\u001b[0m\u001b[1;33m(\u001b[0m\u001b[0mdense1\u001b[0m\u001b[1;33m.\u001b[0m\u001b[0moutput\u001b[0m\u001b[1;33m)\u001b[0m\u001b[1;33m\u001b[0m\u001b[1;33m\u001b[0m\u001b[0m\n\u001b[0;32m     49\u001b[0m \u001b[1;33m\u001b[0m\u001b[0m\n\u001b[1;32m---> 50\u001b[1;33m \u001b[0mdense2\u001b[0m\u001b[1;33m.\u001b[0m\u001b[0mforward\u001b[0m\u001b[1;33m(\u001b[0m\u001b[0mactivation1\u001b[0m\u001b[1;33m.\u001b[0m\u001b[0moutput\u001b[0m\u001b[1;33m)\u001b[0m\u001b[1;33m\u001b[0m\u001b[1;33m\u001b[0m\u001b[0m\n\u001b[0m\u001b[0;32m     51\u001b[0m \u001b[0mactivation2\u001b[0m\u001b[1;33m.\u001b[0m\u001b[0mforward\u001b[0m\u001b[1;33m(\u001b[0m\u001b[0mdense2\u001b[0m\u001b[1;33m.\u001b[0m\u001b[0moutput\u001b[0m\u001b[1;33m)\u001b[0m\u001b[1;33m\u001b[0m\u001b[1;33m\u001b[0m\u001b[0m\n\u001b[0;32m     52\u001b[0m \u001b[1;33m\u001b[0m\u001b[0m\n",
      "\u001b[1;32m<ipython-input-39-4af4fd0c38a4>\u001b[0m in \u001b[0;36mforward\u001b[1;34m(self, inputs)\u001b[0m\n\u001b[0;32m     12\u001b[0m         \u001b[0mself\u001b[0m\u001b[1;33m.\u001b[0m\u001b[0mbiases\u001b[0m\u001b[1;33m=\u001b[0m\u001b[0mnp\u001b[0m\u001b[1;33m.\u001b[0m\u001b[0mzeros\u001b[0m\u001b[1;33m(\u001b[0m\u001b[1;33m(\u001b[0m\u001b[1;36m1\u001b[0m\u001b[1;33m,\u001b[0m\u001b[0mn_neurons\u001b[0m\u001b[1;33m)\u001b[0m\u001b[1;33m)\u001b[0m  \u001b[1;31m#pass the parameter as shape\u001b[0m\u001b[1;33m\u001b[0m\u001b[1;33m\u001b[0m\u001b[0m\n\u001b[0;32m     13\u001b[0m     \u001b[1;32mdef\u001b[0m \u001b[0mforward\u001b[0m\u001b[1;33m(\u001b[0m\u001b[0mself\u001b[0m\u001b[1;33m,\u001b[0m\u001b[0minputs\u001b[0m\u001b[1;33m)\u001b[0m\u001b[1;33m:\u001b[0m\u001b[1;33m\u001b[0m\u001b[1;33m\u001b[0m\u001b[0m\n\u001b[1;32m---> 14\u001b[1;33m         \u001b[0mself\u001b[0m\u001b[1;33m.\u001b[0m\u001b[0moutput\u001b[0m\u001b[1;33m=\u001b[0m\u001b[0mnp\u001b[0m\u001b[1;33m.\u001b[0m\u001b[0mdot\u001b[0m\u001b[1;33m(\u001b[0m\u001b[0minputs\u001b[0m\u001b[1;33m,\u001b[0m\u001b[0mself\u001b[0m\u001b[1;33m.\u001b[0m\u001b[0mweights\u001b[0m\u001b[1;33m)\u001b[0m\u001b[1;33m+\u001b[0m\u001b[0mself\u001b[0m\u001b[1;33m.\u001b[0m\u001b[0mbiases\u001b[0m\u001b[1;33m\u001b[0m\u001b[1;33m\u001b[0m\u001b[0m\n\u001b[0m\u001b[0;32m     15\u001b[0m \u001b[1;32mclass\u001b[0m \u001b[0mActivation_ReLu\u001b[0m\u001b[1;33m:\u001b[0m\u001b[1;33m\u001b[0m\u001b[1;33m\u001b[0m\u001b[0m\n\u001b[0;32m     16\u001b[0m     \u001b[1;32mdef\u001b[0m \u001b[0mforward\u001b[0m\u001b[1;33m(\u001b[0m\u001b[0mself\u001b[0m\u001b[1;33m,\u001b[0m\u001b[0minputs\u001b[0m\u001b[1;33m)\u001b[0m\u001b[1;33m:\u001b[0m\u001b[1;33m\u001b[0m\u001b[1;33m\u001b[0m\u001b[0m\n",
      "\u001b[1;32m<__array_function__ internals>\u001b[0m in \u001b[0;36mdot\u001b[1;34m(*args, **kwargs)\u001b[0m\n",
      "\u001b[1;31mValueError\u001b[0m: shapes (300,5) and (3,3) not aligned: 5 (dim 1) != 3 (dim 0)"
     ]
    }
   ],
   "source": [
    "import numpy as np\n",
    "import nnfs\n",
    "from nnfs.datasets import spiral_data\n",
    "np.random.seed(0)\n",
    "X=[[1,2,3,2.5],    \n",
    "  [2.0,5.0,-1.0,2.0],\n",
    "  [-1.5,2.7,3.3,-0.8]]\n",
    "\n",
    "class Layer_Dense:\n",
    "    def __init__(self,n_inputs,n_neurons):\n",
    "        self.weights=np.random.randn(n_inputs,n_neurons)  #to avoid doing tranpose, we write (n_inputs*n_neurons)\n",
    "        self.biases=np.zeros((1,n_neurons))  #pass the parameter as shape\n",
    "    def forward(self,inputs):\n",
    "        self.output=np.dot(inputs,self.weights)+self.biases\n",
    "class Activation_ReLu:\n",
    "    def forward(self,inputs):\n",
    "        self.output=np.maximum(0,inputs)\n",
    "class Activation_Softmax:\n",
    "    def forward(self,inputs):\n",
    "        exp_values=np.exp(inputs-np.max(inputs,axis=1,keepdims=True))\n",
    "        probabilities=exp_values/np.sum(exp_values,axis=1,keepdims=True)\n",
    "        self.output=probabilities\n",
    "class Loss:\n",
    "    def calculate(self,output,y):\n",
    "        sample_losses=self.forward(output,y)\n",
    "        data_loss=np.mean(sample_losses)\n",
    "        return data_loss\n",
    "class Loss_CategoricalCrossentropy(Loss):\n",
    "    def forward(self,y_pred,y_true):\n",
    "        samples=len(y_pred)\n",
    "        y_pred_clipped=np.clip(y_pred,1e-7,1-1e-7)\n",
    "        #[1,0]   scaled values\n",
    "        #[[0,1],[1,0]] one-hot encoded values\n",
    "        if len(y_true.shape)==1:\n",
    "            correct_confidences=y_pred_clipped[range(samples),y_true]\n",
    "        elif len(y_true.shape)==2:\n",
    "            correct_confidences=np.sum(y_pred_clipped*y_true,axis=1)\n",
    "        negative_log_likelihoods=-np.log(correct_confidences)\n",
    "        return negative_log_likelihoods\n",
    "X,y=spiral_data(100,3)       \n",
    "dense1=Layer_Dense(2,5)\n",
    "activation1=Activation_ReLu()\n",
    "\n",
    "dense2=Layer_Dense(3,3)\n",
    "activation2=Activation_Softmax()\n",
    "\n",
    "dense1.forward(X)\n",
    "activation1.forward(dense1.output)\n",
    "\n",
    "dense2.forward(activation1.output)\n",
    "activation2.forward(dense2.output)\n",
    "\n",
    "# print(layer1.output)\n",
    "loss_function=Loss_CategoricalCrossentropy()\n",
    "loss=loss_function.output(activation2.output,y)\n",
    "print(\"Loss:\",loss)\n",
    "# layer2.forward(layer1.output)\n",
    "# print(layer2.output)"
   ]
  },
  {
   "cell_type": "code",
   "execution_count": 2,
   "id": "76d84301",
   "metadata": {},
   "outputs": [
    {
     "data": {
      "image/png": "[encoded data removed]",
      "text/plain": [
       "<Figure size 432x288 with 1 Axes>"
      ]
     },
     "metadata": {
      "needs_background": "light"
     },
     "output_type": "display_data"
    }
   ],
   "source": [
    "#video no 9\n",
    "import matplotlib.pyplot as plt\n",
    "import nnfs\n",
    "from nnfs.datasets import vertical_data\n",
    "nnfs.init()\n",
    "X,y=vertical_data(samples=100,classes=3)\n",
    "plt.scatter(X[:,0],X[:,1],c=y,s=40,cmap='brg')\n",
    "plt.show()"
   ]
  },
  {
   "cell_type": "code",
   "execution_count": 6,
   "id": "5c647ccd",
   "metadata": {},
   "outputs": [
    {
     "name": "stdout",
     "output_type": "stream",
     "text": [
      "[0 1 2 3 4]\n",
      "[ 1  2  4  8 16]\n"
     ]
    }
   ],
   "source": [
    "import matplotlib.pyplot as plt\n",
    "import numpy as np\n",
    "def f(x):\n",
    "    return 2**x\n",
    "x=np.array(range(5))\n",
    "y=f(x)\n",
    "print(x)\n",
    "print(y)\n"
   ]
  },
  {
   "cell_type": "code",
   "execution_count": 7,
   "id": "216515c8",
   "metadata": {},
   "outputs": [
    {
     "data": {
      "text/plain": [
       "array([0, 1, 2, 3, 4])"
      ]
     },
     "execution_count": 7,
     "metadata": {},
     "output_type": "execute_result"
    }
   ],
   "source": [
    "x"
   ]
  },
  {
   "cell_type": "code",
   "execution_count": 8,
   "id": "3f7b6692",
   "metadata": {},
   "outputs": [
    {
     "name": "stdout",
     "output_type": "stream",
     "text": [
      "[0 1 2 3 4]\n",
      "[ 1  2  4  8 16]\n"
     ]
    }
   ],
   "source": [
    "def f(x):\n",
    "    return 2**x+2\n",
    "x=np.array(range(5))\n",
    "y=f(x)\n",
    "print(x)\n",
    "print(y)"
   ]
  },
  {
   "cell_type": "code",
   "execution_count": 10,
   "id": "821d8bd7",
   "metadata": {},
   "outputs": [
    {
     "name": "stdout",
     "output_type": "stream",
     "text": [
      "4.0001999999987845\n"
     ]
    }
   ],
   "source": [
    "def f(x):\n",
    "    return 2*x**2\n",
    "p2_delta=0.0001\n",
    "x1=1\n",
    "x2=x1+p2_delta\n",
    "y1=f(x1)\n",
    "y2=f(x2)\n",
    "approximate_derivative=(y2-y1)/(x2-x1)\n",
    "print(approximate_derivative)"
   ]
  },
  {
   "cell_type": "code",
   "execution_count": 30,
   "id": "eb995f13",
   "metadata": {},
   "outputs": [
    {
     "name": "stdout",
     "output_type": "stream",
     "text": [
      "(0, 0) (0.0001, 2e-08)\n"
     ]
    },
    {
     "ename": "TypeError",
     "evalue": "approximate_tangent_line() takes 1 positional argument but 3 were given",
     "output_type": "error",
     "traceback": [
      "\u001b[1;31m---------------------------------------------------------------------------\u001b[0m",
      "\u001b[1;31mTypeError\u001b[0m                                 Traceback (most recent call last)",
      "\u001b[1;32m<ipython-input-30-1f14b9c78ac7>\u001b[0m in \u001b[0;36m<module>\u001b[1;34m\u001b[0m\n\u001b[0;32m     33\u001b[0m     \u001b[0mto_plot\u001b[0m\u001b[1;33m=\u001b[0m\u001b[1;33m[\u001b[0m\u001b[0mx1\u001b[0m\u001b[1;33m-\u001b[0m\u001b[1;36m0.9\u001b[0m\u001b[1;33m,\u001b[0m\u001b[0mx1\u001b[0m\u001b[1;33m,\u001b[0m\u001b[0mx1\u001b[0m\u001b[1;33m+\u001b[0m\u001b[1;36m0.9\u001b[0m\u001b[1;33m]\u001b[0m\u001b[1;33m\u001b[0m\u001b[1;33m\u001b[0m\u001b[0m\n\u001b[0;32m     34\u001b[0m     plt.plot(to_plot,\n\u001b[1;32m---> 35\u001b[1;33m              [approximate_tangent_line(point,approximate_derivative,b) \n\u001b[0m\u001b[0;32m     36\u001b[0m               for point in to_plot],\n\u001b[0;32m     37\u001b[0m             c=colors[i])\n",
      "\u001b[1;32m<ipython-input-30-1f14b9c78ac7>\u001b[0m in \u001b[0;36m<listcomp>\u001b[1;34m(.0)\u001b[0m\n\u001b[0;32m     33\u001b[0m     \u001b[0mto_plot\u001b[0m\u001b[1;33m=\u001b[0m\u001b[1;33m[\u001b[0m\u001b[0mx1\u001b[0m\u001b[1;33m-\u001b[0m\u001b[1;36m0.9\u001b[0m\u001b[1;33m,\u001b[0m\u001b[0mx1\u001b[0m\u001b[1;33m,\u001b[0m\u001b[0mx1\u001b[0m\u001b[1;33m+\u001b[0m\u001b[1;36m0.9\u001b[0m\u001b[1;33m]\u001b[0m\u001b[1;33m\u001b[0m\u001b[1;33m\u001b[0m\u001b[0m\n\u001b[0;32m     34\u001b[0m     plt.plot(to_plot,\n\u001b[1;32m---> 35\u001b[1;33m              [approximate_tangent_line(point,approximate_derivative,b) \n\u001b[0m\u001b[0;32m     36\u001b[0m               for point in to_plot],\n\u001b[0;32m     37\u001b[0m             c=colors[i])\n",
      "\u001b[1;31mTypeError\u001b[0m: approximate_tangent_line() takes 1 positional argument but 3 were given"
     ]
    },
    {
     "data": {
      "image/png": "[encoded data removed]",
      "text/plain": [
       "<Figure size 432x288 with 1 Axes>"
      ]
     },
     "metadata": {
      "needs_background": "light"
     },
     "output_type": "display_data"
    }
   ],
   "source": [
    "def f1(x):\n",
    "    return 2*x**2\n",
    "def f2(x):\n",
    "    return 2*x\n",
    "# x=np.arange(0,50,0.10)\n",
    "\n",
    "# y1=f1(x)\n",
    "# y2=f2(x)\n",
    "# plt.plot(x,y1)\n",
    "# plt.show()\n",
    "\n",
    "# plt.plot(x,y2)\n",
    "# plt.show()\n",
    "x=np.arange(0,50,0.001)\n",
    "y=f1(x)\n",
    "plt.plot(x,y)\n",
    "plt.plot(x,y)\n",
    "colors=['k','g','r','b','c']\n",
    "def approximate_tangent_line(x):\n",
    "    return approximate_derivative*x+b\n",
    "for i in range(5):\n",
    "    p2_delta=0.0001\n",
    "    x1=i\n",
    "    x2=x1+p2_delta\n",
    "    y1=f1(x1)\n",
    "    y2=f1(x2)\n",
    "\n",
    "    print((x1,y1),(x2,y2))\n",
    "    approximate_derivatives=(y2-y1)/(x2-x1)\n",
    "    b=y2-approximate_derivatives*x2\n",
    "\n",
    "\n",
    "    to_plot=[x1-0.9,x1,x1+0.9]\n",
    "    plt.plot(to_plot,\n",
    "             [approximate_tangent_line(point,approximate_derivative,b) \n",
    "              for point in to_plot],\n",
    "            c=colors[i])\n",
    "    print('Approximate derivative for f(x)',\n",
    "         f'where x={x1} is {approximate_derivative}')\n",
    "    plt.show()\n",
    "\n",
    "\n",
    "# approximate_derivatives=(y2-y1)/(x2-x1)"
   ]
  },
  {
   "cell_type": "code",
   "execution_count": null,
   "id": "e06e556e",
   "metadata": {},
   "outputs": [],
   "source": []
  }
 ],
 "metadata": {
  "kernelspec": {
   "display_name": "Python 3",
   "language": "python",
   "name": "python3"
  },
  "language_info": {
   "codemirror_mode": {
    "name": "ipython",
    "version": 3
   },
   "file_extension": ".py",
   "mimetype": "text/x-python",
   "name": "python",
   "nbconvert_exporter": "python",
   "pygments_lexer": "ipython3",
   "version": "3.8.8"
  }
 },
 "nbformat": 4,
 "nbformat_minor": 5
}
